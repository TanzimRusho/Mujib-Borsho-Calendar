{
  "nbformat": 4,
  "nbformat_minor": 0,
  "metadata": {
    "colab": {
      "name": "mujib_borsho.ipynb",
      "provenance": [],
      "authorship_tag": "ABX9TyP+2F8x7+AYjXZ4IaGmt4tf",
      "include_colab_link": true
    },
    "kernelspec": {
      "name": "python3",
      "display_name": "Python 3"
    }
  },
  "cells": [
    {
      "cell_type": "markdown",
      "metadata": {
        "id": "view-in-github",
        "colab_type": "text"
      },
      "source": [
        "<a href=\"https://colab.research.google.com/github/TanzimRusho/Mujib-Borsho-Calendar/blob/main/mujib_borsho.ipynb\" target=\"_parent\"><img src=\"https://colab.research.google.com/assets/colab-badge.svg\" alt=\"Open In Colab\"/></a>"
      ]
    },
    {
      "cell_type": "code",
      "metadata": {
        "id": "dI8uWqQdHdOC",
        "colab": {
          "base_uri": "https://localhost:8080/",
          "height": 68
        },
        "outputId": "8fdbd8c9-809f-44f7-cc1e-5e6a6a7c01ae"
      },
      "source": [
        "import sys\n",
        "\n",
        "days = [31,28,31,30,31,30,31,31,30,31,30,31]\n",
        "mujib_days = [31,30,31,30,31,31,30,31,30,31,31,28]\n",
        "\n",
        "month_name= [\"Shadhinota\",\"Shopoth\",\"Betarjuddho\",\"Juddho\",\"Shok\",\"Koushol-juddho\",\"Akash_juddho\",\"Jail-hotta\",\"Bijoy\",\"Fire-asha\",\"Nobojatra\",\"Vasha\"]\n",
        "\n",
        "month = int(input(\"Enter Gregorian month No (Enter 1 for JAN,2 for FEB and so on ): \"))\n",
        "\n",
        "if not (month<=12 and month>0):\n",
        "    print(\"INVALID MONTH\") \n",
        "    sys.exit()\n",
        "\n",
        "day = int(input(\"Enter Gregorian date: \"))\n",
        "\n",
        "if not (day>=0 and day<=days[month-1]): \n",
        "    print(\"INVALID DAY\")\n",
        "    sys.exit()\n",
        "\n",
        "total_days = 0\n",
        "\n",
        "for i in range(month-1):\n",
        "    total_days += days[i]\n",
        "\n",
        "total_days += day\n",
        "\n",
        "\n",
        "total_days -= 75\n",
        "if total_days <= 0:\n",
        "    total_days += 365\n",
        "\n",
        "i = 0\n",
        "cnv_month = 0\n",
        "while total_days > mujib_days[i]:\n",
        "    total_days -= mujib_days[i]\n",
        "    cnv_month += 1\n",
        "    i += 1\n",
        "\n",
        "print(\"The converted date is: \", total_days, month_name[cnv_month])"
      ],
      "execution_count": null,
      "outputs": [
        {
          "output_type": "stream",
          "text": [
            "Enter Gregorian month No (Enter 1 for JAN,2 for FEB and so on ): 3\n",
            "Enter Gregorian date: 17\n",
            "The converted date is:  1 Shadhinota\n"
          ],
          "name": "stdout"
        }
      ]
    }
  ]
}